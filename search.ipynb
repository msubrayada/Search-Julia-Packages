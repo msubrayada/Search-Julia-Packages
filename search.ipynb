{
 "cells": [
  {
   "cell_type": "code",
   "execution_count": 1,
   "id": "adb3bbb8-1657-483a-b0ff-3dda050f419f",
   "metadata": {},
   "outputs": [
    {
     "name": "stderr",
     "output_type": "stream",
     "text": [
      "\u001b[32m\u001b[1m  Activating\u001b[22m\u001b[39m project at `~/Tools/Search-Julia-Packages`\n"
     ]
    }
   ],
   "source": [
    "using Pkg\n",
    "Pkg.activate(\".\")\n",
    "\n",
    "using SimilaritySearch, SimSearchManifoldLearning, TextSearch, InvertedFiles,\n",
    "    CodecZlib, JSON, JLD2, LinearAlgebra, StatsBase, Statistics, DataFrames\n",
    "\n",
    "using Downloads: download"
   ]
  },
  {
   "cell_type": "code",
   "execution_count": null,
   "id": "2f830eed-b53f-4e0a-88fa-33b835bfd1a3",
   "metadata": {},
   "outputs": [],
   "source": []
  },
  {
   "cell_type": "code",
   "execution_count": 2,
   "id": "2f6205f1-376f-4c5c-b2a1-23ccb13670cc",
   "metadata": {},
   "outputs": [
    {
     "data": {
      "text/plain": [
       "load_or_create_indexes (generic function with 1 method)"
      ]
     },
     "execution_count": 2,
     "metadata": {},
     "output_type": "execute_result"
    }
   ],
   "source": [
    "include(\"src/create-indexes.jl\")"
   ]
  },
  {
   "cell_type": "code",
   "execution_count": 3,
   "id": "cc9d5d08-0942-45c6-862e-e7de60ab7072",
   "metadata": {},
   "outputs": [
    {
     "name": "stdout",
     "output_type": "stream",
     "text": [
      "size(P.D) = (8944, 7)\n"
     ]
    },
    {
     "data": {
      "text/html": [
       "<div><div style = \"float: left;\"><span>3×4 DataFrame</span></div><div style = \"clear: both;\"></div></div><div class = \"data-frame\" style = \"overflow-x: scroll;\"><table class = \"data-frame\" style = \"margin-bottom: 6px;\"><thead><tr class = \"header\"><th class = \"rowNumber\" style = \"font-weight: bold; text-align: right;\">Row</th><th style = \"text-align: left;\">name</th><th style = \"text-align: left;\">url</th><th style = \"text-align: left;\">description</th><th style = \"text-align: left;\">topics</th></tr><tr class = \"subheader headerLastRow\"><th class = \"rowNumber\" style = \"font-weight: bold; text-align: right;\"></th><th title = \"String\" style = \"text-align: left;\">String</th><th title = \"String\" style = \"text-align: left;\">String</th><th title = \"String\" style = \"text-align: left;\">String</th><th title = \"String\" style = \"text-align: left;\">String</th></tr></thead><tbody><tr><td class = \"rowNumber\" style = \"font-weight: bold; text-align: right;\">1</td><td style = \"text-align: left;\">AAindex</td><td style = \"text-align: left;\">https://github.com/jowch/AAindex.jl</td><td style = \"text-align: left;\">A package to read AAindex database files.</td><td style = \"text-align: left;\"></td></tr><tr><td class = \"rowNumber\" style = \"font-weight: bold; text-align: right;\">2</td><td style = \"text-align: left;\">ABBAj</td><td style = \"text-align: left;\">https://github.com/nla-group/ABBAj.jl</td><td style = \"text-align: left;\">A Julia version of ABBA with parallel k-means implementation</td><td style = \"text-align: left;\">data-mining julia timeseries</td></tr><tr><td class = \"rowNumber\" style = \"font-weight: bold; text-align: right;\">3</td><td style = \"text-align: left;\">ABC_jll</td><td style = \"text-align: left;\">https://github.com/JuliaBinaryWrappers/ABC_jll.jl</td><td style = \"text-align: left;\"></td><td style = \"text-align: left;\"></td></tr></tbody></table></div>"
      ],
      "text/latex": [
       "\\begin{tabular}{r|cccc}\n",
       "\t& name & url & description & \\\\\n",
       "\t\\hline\n",
       "\t& String & String & String & \\\\\n",
       "\t\\hline\n",
       "\t1 & AAindex & https://github.com/jowch/AAindex.jl & A package to read AAindex database files. & $\\dots$ \\\\\n",
       "\t2 & ABBAj & https://github.com/nla-group/ABBAj.jl & A Julia version of ABBA with parallel k-means implementation & $\\dots$ \\\\\n",
       "\t3 & ABC\\_jll & https://github.com/JuliaBinaryWrappers/ABC\\_jll.jl &  & $\\dots$ \\\\\n",
       "\\end{tabular}\n"
      ],
      "text/plain": [
       "\u001b[1m3×4 DataFrame\u001b[0m\n",
       "\u001b[1m Row \u001b[0m│\u001b[1m name    \u001b[0m\u001b[1m url                               \u001b[0m\u001b[1m description                \u001b[0m ⋯\n",
       "     │\u001b[90m String  \u001b[0m\u001b[90m String                            \u001b[0m\u001b[90m String                     \u001b[0m ⋯\n",
       "─────┼──────────────────────────────────────────────────────────────────────────\n",
       "   1 │ AAindex  https://github.com/jowch/AAindex…  A package to read AAindex d ⋯\n",
       "   2 │ ABBAj    https://github.com/nla-group/ABB…  A Julia version of ABBA wit\n",
       "   3 │ ABC_jll  https://github.com/JuliaBinaryWr…\n",
       "\u001b[36m                                                               2 columns omitted\u001b[0m"
      ]
     },
     "execution_count": 3,
     "metadata": {},
     "output_type": "execute_result"
    }
   ],
   "source": [
    "P = load_or_create_indexes()\n",
    "@show size(P.D)\n",
    "first(P.D, 3)[:, 1:4]"
   ]
  },
  {
   "cell_type": "code",
   "execution_count": 4,
   "id": "e311d60e-f23c-428a-a590-ab188c7c595c",
   "metadata": {},
   "outputs": [
    {
     "data": {
      "text/plain": [
       "\"nearest neighbors similarity search\""
      ]
     },
     "execution_count": 4,
     "metadata": {},
     "output_type": "execute_result"
    }
   ],
   "source": [
    "k = 5\n",
    "qtext = \"nearest neighbors similarity search\""
   ]
  },
  {
   "cell_type": "code",
   "execution_count": 5,
   "id": "1fdcdd10-4906-4f7f-895a-8572acdd0d38",
   "metadata": {},
   "outputs": [
    {
     "data": {
      "text/latex": [
       "\\subsection{search on pkg's name (query: nearest neighbors similarity search)}\n"
      ],
      "text/markdown": [
       "## search on pkg's name (query: nearest neighbors similarity search)\n"
      ],
      "text/plain": [
       "\u001b[1m  search on pkg's name (query: nearest neighbors similarity search)\u001b[22m\n",
       "\u001b[1m  ===================================================================\u001b[22m"
      ]
     },
     "metadata": {},
     "output_type": "display_data"
    },
    {
     "name": "stdout",
     "output_type": "stream",
     "text": [
      "{\n",
      " \"name\": \"NearestNeighbors\",\n",
      " \"topics\": \"datastructures knn-search nearest-neighbors range-search\",\n",
      " \"bm25-score\": 134.29,\n",
      " \"description\": \"High performance nearest neighbor data structures and algorithms for Julia.\",\n",
      " \"url\": \"https://github.com/KristofferC/NearestNeighbors.jl\",\n",
      " \"gh-stars\": 352\n",
      "}\n",
      "\n",
      "{\n",
      " \"name\": \"SimilaritySearch\",\n",
      " \"topics\": \"information-retrieval metric-search search-engine similarity-search\",\n",
      " \"bm25-score\": 131.04,\n",
      " \"description\": \"A Near Neighbor Search Library\",\n",
      " \"url\": \"https://github.com/sadit/SimilaritySearch.jl\",\n",
      " \"gh-stars\": 27\n",
      "}\n",
      "\n",
      "{\n",
      " \"name\": \"NearestNeighborModels\",\n",
      " \"topics\": \"julia knearest-neighbor-classifiers knearest-neighbor-regressors mlj weighting-nearest-neighbors\",\n",
      " \"bm25-score\": 113.0,\n",
      " \"description\": \"Package providing K-nearest neighbor regressors and classifiers, for use with the MLJ machine learning framework.\",\n",
      " \"url\": \"https://github.com/JuliaAI/NearestNeighborModels.jl\",\n",
      " \"gh-stars\": 27\n",
      "}\n",
      "\n",
      "{\n",
      " \"name\": \"NearestNeighborDescent\",\n",
      " \"topics\": \"approximate-nearest-neighbor-search distance julialang knn-algorithm knn-graphs machine-learning nearest-neighbors nndescent\",\n",
      " \"bm25-score\": 111.76,\n",
      " \"description\": \"Efficient approximate k-nearest neighbors graph construction and search in Julia\",\n",
      " \"url\": \"https://github.com/dillondaudert/NearestNeighborDescent.jl\",\n",
      " \"gh-stars\": 37\n",
      "}\n",
      "\n",
      "{\n",
      " \"name\": \"SearchSortedNearest\",\n",
      " \"topics\": \"\",\n",
      " \"bm25-score\": 86.77,\n",
      " \"description\": \"\",\n",
      " \"url\": \"https://github.com/joshday/SearchSortedNearest.jl\",\n",
      " \"gh-stars\": 12\n",
      "}\n",
      "\n"
     ]
    }
   ],
   "source": [
    "display(md\"## search on pkg's name (query: $qtext)\")\n",
    "\n",
    "for p in search_packages(P.D, P.nameidx, qtext, k)\n",
    "    println(json(p, 1))\n",
    "end"
   ]
  },
  {
   "cell_type": "code",
   "execution_count": 6,
   "id": "ce8c7692-d769-4978-9ee1-12855ff12553",
   "metadata": {},
   "outputs": [
    {
     "data": {
      "text/latex": [
       "\\subsection{search on pkg's descriptions (query: nearest neighbors similarity search)}\n"
      ],
      "text/markdown": [
       "## search on pkg's descriptions (query: nearest neighbors similarity search)\n"
      ],
      "text/plain": [
       "\u001b[1m  search on pkg's descriptions (query: nearest neighbors similarity\u001b[22m\n",
       "\u001b[1m search)\u001b[22m\n",
       "\u001b[1m  ==========================\u001b[22m"
      ]
     },
     "metadata": {},
     "output_type": "display_data"
    },
    {
     "name": "stdout",
     "output_type": "stream",
     "text": [
      "{\n",
      " \"name\": \"NeighborhoodApproximationIndex\",\n",
      " \"topics\": \"\",\n",
      " \"bm25-score\": 262.76,\n",
      " \"description\": \"Similarity search indexes based on neighborhood approximation\",\n",
      " \"url\": \"https://github.com/sadit/NeighborhoodApproximationIndex.jl\",\n",
      " \"gh-stars\": 1\n",
      "}\n",
      "\n",
      "{\n",
      " \"name\": \"NearestNeighborDescent\",\n",
      " \"topics\": \"approximate-nearest-neighbor-search distance julialang knn-algorithm knn-graphs machine-learning nearest-neighbors nndescent\",\n",
      " \"bm25-score\": 246.62,\n",
      " \"description\": \"Efficient approximate k-nearest neighbors graph construction and search in Julia\",\n",
      " \"url\": \"https://github.com/dillondaudert/NearestNeighborDescent.jl\",\n",
      " \"gh-stars\": 37\n",
      "}\n",
      "\n",
      "{\n",
      " \"name\": \"ParallelNeighbors\",\n",
      " \"topics\": \"\",\n",
      " \"bm25-score\": 238.3,\n",
      " \"description\": \"Massively-parallel exact nearest neighbor search in Julia.\",\n",
      " \"url\": \"https://github.com/davnn/ParallelNeighbors.jl\",\n",
      " \"gh-stars\": 6\n",
      "}\n",
      "\n",
      "{\n",
      " \"name\": \"Neighborhood\",\n",
      " \"topics\": \"\",\n",
      " \"bm25-score\": 221.08,\n",
      " \"description\": \"A common API for finding nearest neighbors in Julia\",\n",
      " \"url\": \"https://github.com/JuliaNeighbors/Neighborhood.jl\",\n",
      " \"gh-stars\": 12\n",
      "}\n",
      "\n",
      "{\n",
      " \"name\": \"HNSW\",\n",
      " \"topics\": \"\",\n",
      " \"bm25-score\": 212.59,\n",
      " \"description\": \"Approximate Nearest Neighbor Searches using the HNSW algorithm\",\n",
      " \"url\": \"https://github.com/JuliaNeighbors/HNSW.jl\",\n",
      " \"gh-stars\": 15\n",
      "}\n",
      "\n"
     ]
    }
   ],
   "source": [
    "\n",
    "display(md\"## search on pkg's descriptions (query: $qtext)\")\n",
    "for p in search_packages(P.D, P.descidx, qtext, k)\n",
    "    println(json(p, 1))\n",
    "end"
   ]
  },
  {
   "cell_type": "code",
   "execution_count": 7,
   "id": "a37439ef-32d9-4609-bd48-9d154c5be9ec",
   "metadata": {},
   "outputs": [
    {
     "data": {
      "text/latex": [
       "\\subsection{search on pkg's readme files (query: nearest neighbors similarity search)}\n"
      ],
      "text/markdown": [
       "## search on pkg's readme files (query: nearest neighbors similarity search)\n"
      ],
      "text/plain": [
       "\u001b[1m  search on pkg's readme files (query: nearest neighbors similarity\u001b[22m\n",
       "\u001b[1m search)\u001b[22m\n",
       "\u001b[1m  ==========================\u001b[22m"
      ]
     },
     "metadata": {},
     "output_type": "display_data"
    },
    {
     "name": "stdout",
     "output_type": "stream",
     "text": [
      "{\n",
      " \"name\": \"InvertedFiles\",\n",
      " \"topics\": \"\",\n",
      " \"bm25-score\": 53.38,\n",
      " \"description\": \"Implements a generic Inverted Index data structure for full text search and other kinds of search domains\",\n",
      " \"url\": \"https://github.com/sadit/InvertedFiles.jl\",\n",
      " \"gh-stars\": 6\n",
      "}\n",
      "\n",
      "{\n",
      " \"name\": \"NearestNeighborDescent\",\n",
      " \"topics\": \"approximate-nearest-neighbor-search distance julialang knn-algorithm knn-graphs machine-learning nearest-neighbors nndescent\",\n",
      " \"bm25-score\": 49.9,\n",
      " \"description\": \"Efficient approximate k-nearest neighbors graph construction and search in Julia\",\n",
      " \"url\": \"https://github.com/dillondaudert/NearestNeighborDescent.jl\",\n",
      " \"gh-stars\": 37\n",
      "}\n",
      "\n",
      "{\n",
      " \"name\": \"SimilaritySearch\",\n",
      " \"topics\": \"information-retrieval metric-search search-engine similarity-search\",\n",
      " \"bm25-score\": 49.66,\n",
      " \"description\": \"A Near Neighbor Search Library\",\n",
      " \"url\": \"https://github.com/sadit/SimilaritySearch.jl\",\n",
      " \"gh-stars\": 27\n",
      "}\n",
      "\n",
      "{\n",
      " \"name\": \"LSHFunctions\",\n",
      " \"topics\": \"data-science julia locality-sensitive-hashing lsh similarity-search\",\n",
      " \"bm25-score\": 49.31,\n",
      " \"description\": \"Locality-sensitive hashing (LSH) in Julia.\",\n",
      " \"url\": \"https://github.com/kernelmethod/LSHFunctions.jl\",\n",
      " \"gh-stars\": 13\n",
      "}\n",
      "\n",
      "{\n",
      " \"name\": \"Shrike\",\n",
      " \"topics\": \"approximate-nearest-neighbor-search clustering julia nearest-neighbor-search nearest-neighbors random-projection random-projections\",\n",
      " \"bm25-score\": 39.21,\n",
      " \"description\": \"Shrike.jl: Fast approximate nearest neighbor search with random projection trees. (Benchmarks included)\",\n",
      " \"url\": \"https://github.com/djpasseyjr/Shrike.jl\",\n",
      " \"gh-stars\": 29\n",
      "}\n",
      "\n",
      "{\n",
      " \"name\": \"ParallelNeighbors\",\n",
      " \"topics\": \"\",\n",
      " \"bm25-score\": 38.05,\n",
      " \"description\": \"Massively-parallel exact nearest neighbor search in Julia.\",\n",
      " \"url\": \"https://github.com/davnn/ParallelNeighbors.jl\",\n",
      " \"gh-stars\": 6\n",
      "}\n",
      "\n",
      "{\n",
      " \"name\": \"IVFADC\",\n",
      " \"topics\": \"approximate-nearest-neighbor-search billion-scale inverted-index nearest-neighbor-search product-quantization\",\n",
      " \"bm25-score\": 37.0,\n",
      " \"description\": \"Inverted file system for billion-scale ANN search\",\n",
      " \"url\": \"https://github.com/JuliaNeighbors/IVFADC.jl\",\n",
      " \"gh-stars\": 14\n",
      "}\n",
      "\n",
      "{\n",
      " \"name\": \"HNSW\",\n",
      " \"topics\": \"\",\n",
      " \"bm25-score\": 36.78,\n",
      " \"description\": \"Approximate Nearest Neighbor Searches using the HNSW algorithm\",\n",
      " \"url\": \"https://github.com/JuliaNeighbors/HNSW.jl\",\n",
      " \"gh-stars\": 15\n",
      "}\n",
      "\n",
      "{\n",
      " \"name\": \"UMAP\",\n",
      " \"topics\": \"dimensionality-reduction julia machine-learning topological-data-analysis umap visualization\",\n",
      " \"bm25-score\": 36.76,\n",
      " \"description\": \"Uniform Manifold Approximation and Projection (UMAP) implementation in Julia\",\n",
      " \"url\": \"https://github.com/dillondaudert/UMAP.jl\",\n",
      " \"gh-stars\": 107\n",
      "}\n",
      "\n",
      "{\n",
      " \"name\": \"NeighborhoodApproximationIndex\",\n",
      " \"topics\": \"\",\n",
      " \"bm25-score\": 36.66,\n",
      " \"description\": \"Similarity search indexes based on neighborhood approximation\",\n",
      " \"url\": \"https://github.com/sadit/NeighborhoodApproximationIndex.jl\",\n",
      " \"gh-stars\": 1\n",
      "}\n",
      "\n",
      "{\n",
      " \"name\": \"NearestNeighbors\",\n",
      " \"topics\": \"datastructures knn-search nearest-neighbors range-search\",\n",
      " \"bm25-score\": 36.32,\n",
      " \"description\": \"High performance nearest neighbor data structures and algorithms for Julia.\",\n",
      " \"url\": \"https://github.com/KristofferC/NearestNeighbors.jl\",\n",
      " \"gh-stars\": 352\n",
      "}\n",
      "\n",
      "{\n",
      " \"name\": \"DynamicAxisWarping\",\n",
      " \"topics\": \"distance-measures dynamic-frequency-warping dynamic-time-warping optimal-transport signal-analysis signal-processing soft-dtw time-series time-series-analysis time-series-clustering\",\n",
      " \"bm25-score\": 33.64,\n",
      " \"description\": \"Dynamic Time Warping (DTW) and related algorithms in Julia, at Julia speeds\",\n",
      " \"url\": \"https://github.com/baggepinnen/DynamicAxisWarping.jl\",\n",
      " \"gh-stars\": 73\n",
      "}\n",
      "\n",
      "{\n",
      " \"name\": \"ManifoldLearning\",\n",
      " \"topics\": \"diffusion-maps dimensionality-reduction isomap julia lle manifold-learning\",\n",
      " \"bm25-score\": 29.01,\n",
      " \"description\": \"A Julia package for manifold learning and nonlinear dimensionality reduction\",\n",
      " \"url\": \"https://github.com/wildart/ManifoldLearning.jl\",\n",
      " \"gh-stars\": 82\n",
      "}\n",
      "\n",
      "{\n",
      " \"name\": \"PrincipalMomentAnalysisApp\",\n",
      " \"topics\": \"\",\n",
      " \"bm25-score\": 28.01,\n",
      " \"description\": \"Simple GUI for exploring data sets using Principal Moment Analysis\",\n",
      " \"url\": \"https://github.com/PrincipalMomentAnalysis/PrincipalMomentAnalysisApp.jl\",\n",
      " \"gh-stars\": 0\n",
      "}\n",
      "\n",
      "{\n",
      " \"name\": \"Pinecone\",\n",
      " \"topics\": \"\",\n",
      " \"bm25-score\": 27.88,\n",
      " \"description\": \"\",\n",
      " \"url\": \"https://github.com/tullytim/Pinecone.jl\",\n",
      " \"gh-stars\": 23\n",
      "}\n",
      "\n"
     ]
    }
   ],
   "source": [
    "display(md\"## search on pkg's readme files (query: $qtext)\")\n",
    "for p in search_packages(P.D, P.readmeidx, qtext, 15)\n",
    "    println(json(p, 1))\n",
    "end"
   ]
  }
 ],
 "metadata": {
  "@webio": {
   "lastCommId": "c0facf71-296b-4764-8510-ea5df0c191f8",
   "lastKernelId": "e71e5dbb-95a6-4b9d-9137-d8ceb338b4b6"
  },
  "kernelspec": {
   "display_name": "Julia 1.9.0",
   "language": "julia",
   "name": "julia-1.9"
  },
  "language_info": {
   "file_extension": ".jl",
   "mimetype": "application/julia",
   "name": "julia",
   "version": "1.9.0"
  }
 },
 "nbformat": 4,
 "nbformat_minor": 5
}
