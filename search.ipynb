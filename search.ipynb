{
 "cells": [
  {
   "cell_type": "code",
   "execution_count": null,
   "id": "adb3bbb8-1657-483a-b0ff-3dda050f419f",
   "metadata": {},
   "outputs": [],
   "source": [
    "using Pkg\n",
    "Pkg.activate(\".\")\n",
    "\n",
    "using SimilaritySearch, SimSearchManifoldLearning, TextSearch, InvertedFiles,\n",
    "    CodecZlib, JSON, JLD2, LinearAlgebra, StatsBase, Statistics, DataFrames\n",
    "\n",
    "using Downloads: download"
   ]
  },
  {
   "cell_type": "code",
   "execution_count": null,
   "id": "2f830eed-b53f-4e0a-88fa-33b835bfd1a3",
   "metadata": {},
   "outputs": [],
   "source": []
  },
  {
   "cell_type": "code",
   "execution_count": null,
   "id": "2f6205f1-376f-4c5c-b2a1-23ccb13670cc",
   "metadata": {},
   "outputs": [],
   "source": [
    "include(\"src/create-indexes.jl\")"
   ]
  },
  {
   "cell_type": "code",
   "execution_count": null,
   "id": "cc9d5d08-0942-45c6-862e-e7de60ab7072",
   "metadata": {},
   "outputs": [],
   "source": [
    "P = load_or_create_indexes()\n",
    "@show size(P.D)\n",
    "first(P.D, 3)[:, 1:4]"
   ]
  },
  {
   "cell_type": "code",
   "execution_count": null,
   "id": "e311d60e-f23c-428a-a590-ab188c7c595c",
   "metadata": {},
   "outputs": [],
   "source": [
    "k = 5\n",
    "qtext = \"nearest neighbors similarity search\""
   ]
  },
  {
   "cell_type": "code",
   "execution_count": null,
   "id": "1fdcdd10-4906-4f7f-895a-8572acdd0d38",
   "metadata": {},
   "outputs": [],
   "source": [
    "display(md\"## search on pkg's name (query: $qtext)\")\n",
    "\n",
    "for p in search_packages(P.D, P.nameidx, qtext, k)\n",
    "    println(json(p, 1))\n",
    "end"
   ]
  },
  {
   "cell_type": "code",
   "execution_count": null,
   "id": "ce8c7692-d769-4978-9ee1-12855ff12553",
   "metadata": {},
   "outputs": [],
   "source": [
    "\n",
    "display(md\"## search on pkg's descriptions (query: $qtext)\")\n",
    "for p in search_packages(P.D, P.descidx, qtext, k)\n",
    "    println(json(p, 1))\n",
    "end"
   ]
  },
  {
   "cell_type": "code",
   "execution_count": null,
   "id": "a37439ef-32d9-4609-bd48-9d154c5be9ec",
   "metadata": {},
   "outputs": [],
   "source": [
    "display(md\"## search on pkg's readme files (query: $qtext)\")\n",
    "for p in search_packages(P.D, P.readmeidx, qtext, 15)\n",
    "    println(json(p, 1))\n",
    "end"
   ]
  }
 ],
 "metadata": {
  "@webio": {
   "lastCommId": "c0facf71-296b-4764-8510-ea5df0c191f8",
   "lastKernelId": "e71e5dbb-95a6-4b9d-9137-d8ceb338b4b6"
  },
  "kernelspec": {
   "display_name": "Julia 1.9.0",
   "language": "julia",
   "name": "julia-1.9"
  },
  "language_info": {
   "file_extension": ".jl",
   "mimetype": "application/julia",
   "name": "julia",
   "version": "1.9.0"
  }
 },
 "nbformat": 4,
 "nbformat_minor": 5
}
