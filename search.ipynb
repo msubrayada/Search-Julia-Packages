{
 "cells": [
  {
   "cell_type": "code",
   "execution_count": 1,
   "id": "adb3bbb8-1657-483a-b0ff-3dda050f419f",
   "metadata": {},
   "outputs": [
    {
     "name": "stderr",
     "output_type": "stream",
     "text": [
      "\u001b[32m\u001b[1m  Activating\u001b[22m\u001b[39m project at `~/Tools/Search-Julia-Packages`\n"
     ]
    }
   ],
   "source": [
    "using Pkg\n",
    "Pkg.activate(\".\")\n",
    "\n",
    "using SimilaritySearch, SimSearchManifoldLearning, TextSearch, InvertedFiles,\n",
    "    CodecZlib, JSON, JLD2, LinearAlgebra, StatsBase, Statistics, DataFrames\n",
    "\n",
    "using Downloads: download"
   ]
  },
  {
   "cell_type": "code",
   "execution_count": 8,
   "id": "2f830eed-b53f-4e0a-88fa-33b835bfd1a3",
   "metadata": {},
   "outputs": [
    {
     "name": "stdout",
     "output_type": "stream",
     "text": [
      "\u001b[32m\u001b[1mStatus\u001b[22m\u001b[39m `~/Tools/Search-Julia-Packages/Project.toml`\n",
      "\u001b[32m⌃\u001b[39m \u001b[90m[324d7699] \u001b[39mCategoricalArrays v0.10.7\n",
      "\u001b[33m⌅\u001b[39m \u001b[90m[aaaa29a8] \u001b[39mClustering v0.14.4\n",
      "  \u001b[90m[944b1d66] \u001b[39mCodecZlib v0.7.1\n",
      "  \u001b[90m[a93c6f00] \u001b[39mDataFrames v1.5.0\n",
      "  \u001b[90m[c27321d9] \u001b[39mGlob v1.3.1\n",
      "  \u001b[90m[ac1192a8] \u001b[39mHypertextLiteral v0.9.4\n",
      "  \u001b[90m[7073ff75] \u001b[39mIJulia v1.24.0\n",
      "  \u001b[90m[b20bd276] \u001b[39mInvertedFiles v0.6.1\n",
      "  \u001b[90m[033835bb] \u001b[39mJLD2 v0.4.31\n",
      "\u001b[32m⌃\u001b[39m \u001b[90m[682c06a0] \u001b[39mJSON v0.21.3\n",
      "  \u001b[90m[8ef0a80b] \u001b[39mLanguages v0.4.3\n",
      "\u001b[32m⌃\u001b[39m \u001b[90m[98572fba] \u001b[39mParquet2 v0.2.11\n",
      "  \u001b[90m[1a8c2f83] \u001b[39mQuery v1.0.0\n",
      "  \u001b[90m[295af30f] \u001b[39mRevise v3.5.2\n",
      "  \u001b[90m[ca7ab67e] \u001b[39mSimSearchManifoldLearning v0.2.8\n",
      "  \u001b[90m[053f045d] \u001b[39mSimilaritySearch v0.10.8\n",
      "  \u001b[90m[fb8f903a] \u001b[39mSnowball v0.1.0\n",
      "\u001b[33m⌅\u001b[39m \u001b[90m[2913bbd2] \u001b[39mStatsBase v0.33.21\n",
      "\u001b[32m⌃\u001b[39m \u001b[90m[f3b207a7] \u001b[39mStatsPlots v0.15.4\n",
      "  \u001b[90m[7f6f6c8a] \u001b[39mTextSearch v0.16.2\n",
      "  \u001b[90m[3a884ed6] \u001b[39mUnPack v1.0.2\n",
      "  \u001b[90m[10745b16] \u001b[39mStatistics v1.9.0\n",
      "\u001b[36m\u001b[1mInfo\u001b[22m\u001b[39m Packages marked with \u001b[32m⌃\u001b[39m and \u001b[33m⌅\u001b[39m have new versions available, but those with \u001b[33m⌅\u001b[39m are restricted by compatibility constraints from upgrading. To see why use `status --outdated`\n"
     ]
    }
   ],
   "source": [
    "]status"
   ]
  },
  {
   "cell_type": "code",
   "execution_count": 2,
   "id": "2f6205f1-376f-4c5c-b2a1-23ccb13670cc",
   "metadata": {},
   "outputs": [
    {
     "data": {
      "text/plain": [
       "load_or_create_indexes (generic function with 1 method)"
      ]
     },
     "execution_count": 2,
     "metadata": {},
     "output_type": "execute_result"
    }
   ],
   "source": [
    "include(\"src/create-indexes.jl\")"
   ]
  },
  {
   "cell_type": "code",
   "execution_count": 3,
   "id": "cc9d5d08-0942-45c6-862e-e7de60ab7072",
   "metadata": {},
   "outputs": [
    {
     "name": "stdout",
     "output_type": "stream",
     "text": [
      "size(P.D) = (8944, 7)\n"
     ]
    },
    {
     "data": {
      "text/html": [
       "<div><div style = \"float: left;\"><span>3×7 DataFrame</span></div><div style = \"clear: both;\"></div></div><div class = \"data-frame\" style = \"overflow-x: scroll;\"><table class = \"data-frame\" style = \"margin-bottom: 6px;\"><thead><tr class = \"header\"><th class = \"rowNumber\" style = \"font-weight: bold; text-align: right;\">Row</th><th style = \"text-align: left;\">name</th><th style = \"text-align: left;\">url</th><th style = \"text-align: left;\">description</th><th style = \"text-align: left;\">topics</th><th style = \"text-align: left;\">readme</th><th style = \"text-align: left;\">license</th><th style = \"text-align: left;\">stargazers_count</th></tr><tr class = \"subheader headerLastRow\"><th class = \"rowNumber\" style = \"font-weight: bold; text-align: right;\"></th><th title = \"String\" style = \"text-align: left;\">String</th><th title = \"String\" style = \"text-align: left;\">String</th><th title = \"String\" style = \"text-align: left;\">String</th><th title = \"String\" style = \"text-align: left;\">String</th><th title = \"String\" style = \"text-align: left;\">String</th><th title = \"String\" style = \"text-align: left;\">String</th><th title = \"Int32\" style = \"text-align: left;\">Int32</th></tr></thead><tbody><tr><td class = \"rowNumber\" style = \"font-weight: bold; text-align: right;\">1</td><td style = \"text-align: left;\">AAindex</td><td style = \"text-align: left;\">https://github.com/jowch/AAindex.jl</td><td style = \"text-align: left;\">A package to read AAindex database files.</td><td style = \"text-align: left;\"></td><td style = \"text-align: left;\"># AAindex.jl\\n\\nA package to read [AAindex](https://www.genome.jp/aaindex/) database files.\\nThese contain a variety of reported physico-chemical and biochemical\\nproperties of amino acids (Kawashima and Kanehisa, 2000). The package now\\nalso provides a copy of the database files (v9.2) for convenience. However,\\nyou may still use your own copy if you want to.\\n\\n## Usage\\nThe main interface provided by this package is the `search` function, which\\naccepts a search term (_e.g._, `ANDN920101` or `hydrophobicity`) and,\\noptionally, a path to an AAindex database file. It will search through the\\ndatabase and return a list of matching database entries. Additionally, the\\n`search_id` function provides a more direct interface for loading a specific\\nentry.\\n\\n```julia-repl\\njulia&gt; search(&quot;hydrophobicity&quot;)\\n16-element Vector{Tuple{String, String, DataType}}:\\n (&quot;CIDH920103&quot;, &quot;Normalized hydrophobicity scales for alpha+beta-proteins (Cid et al., 1992)&quot;, Index)\\n (&quot;CIDH920102&quot;, &quot;Normalized hydrophobicity scales for beta-proteins (Cid et al., 1992)&quot;, Index)\\n (&quot;CIDH920105&quot;, &quot;Normalized average hydrophobicity scales (Cid et al., 1992)&quot;, Index)\\n (&quot;EISD840101&quot;, &quot;Consensus normalized hydrophobicity scale (Eisenberg, 1984)&quot;, Index)\\n (&quot;JURD980101&quot;, &quot;Modified Kyte-Doolittle hydrophobicity scale (Juretic et al., 1998)&quot;, Index)\\n (&quot;BLAS910101&quot;, &quot;Scaled side chain hydrophobicity values (Black-Mould, 1991)&quot;, Index)\\n (&quot;PONP800106&quot;, &quot;Surrounding hydrophobicity in turn (Ponnuswamy et al., 1980)&quot;, Index)\\n (&quot;CIDH920104&quot;, &quot;Normalized hydrophobicity scales for alpha/beta-proteins (Cid et al., 1992)&quot;, Index)\\n (&quot;SWER830101&quot;, &quot;Optimal matching hydrophobicity (Sweet-Eisenberg, 1983)&quot;, Index)\\n (&quot;PONP800101&quot;, &quot;Surrounding hydrophobicity in folded form (Ponnuswamy et al., 1980)&quot;, Index)\\n (&quot;CIDH920101&quot;, &quot;Normalized hydrophobicity scales for alpha-proteins (Cid et al., 1992)&quot;, Index)\\n (&quot;MANP780101&quot;, &quot;Average surrounding hydrophobicity (Manavalan-Ponnuswamy, 1978)&quot;, Index)\\n (&quot;PONP800103&quot;, &quot;Average gain ratio in surrounding hydrophobicity (Ponnuswamy et al., 1980)&quot;, Index)\\n (&quot;PONP800105&quot;, &quot;Surrounding hydrophobicity in beta-sheet (Ponnuswamy et al., 1980)&quot;, Index)\\n (&quot;PONP800102&quot;, &quot;Average gain in surrounding hydrophobicity (Ponnuswamy et al., 1980)&quot;, Index)\\n (&quot;PONP800104&quot;, &quot;Surrounding hydrophobicity in alpha-helix (Ponnuswamy et al., 1980)&quot;, Index)\\n\\njulia&gt; aaindex_by_id(&quot;JURD980101&quot;)\\n```\\n\\nThis returns an array of `Index` and `AMatrix` objects with the following\\nrespective interfaces:\\n```julia\\nstruct Index &lt;: AbstractAAIndex\\n    data::SVector{20}\\n    correlation::Dict{String, AbstractFloat}\\n    metadata::Metadata\\nend\\n\\nstruct AMatrix &lt;: AbstractAAIndex\\n    rowids::String\\n    columnids::String\\n    data::Union{SHermitianCompact, SMatrix}\\n    metadata::Metadata\\nend\\n```\\n\\nEntry metadata is stored in a separate struct with the following interface:\\n```julia\\nstruct Metadata\\n    id::String\\n    description::String\\n    reference::Array{String}\\n    journal::String\\n    title::String\\n    authors::String\\n    comment::String\\nend\\n```\\n\\n## References\\nKawashima, S., &amp; Kanehisa, M. (2000). AAindex: amino acid index database.\\nNucleic acids research, 28(1), 374. https://doi.org/10.1093/nar/28.1.374\\n</td><td style = \"text-align: left;\">MIT License</td><td style = \"text-align: right;\">2</td></tr><tr><td class = \"rowNumber\" style = \"font-weight: bold; text-align: right;\">2</td><td style = \"text-align: left;\">ABBAj</td><td style = \"text-align: left;\">https://github.com/nla-group/ABBAj.jl</td><td style = \"text-align: left;\">A Julia version of ABBA with parallel k-means implementation</td><td style = \"text-align: left;\">data-mining julia timeseries</td><td style = \"text-align: left;\"># ABBAj\\n\\n[![Build Status](https://app.travis-ci.com/nla-group/ABBAj.jl.svg?branch=master)](https://app.travis-ci.com/github/nla-group/ABBAj.jl)\\n[![Build Status](https://github.com/nla-group/ABBAj.jl/actions/workflows/ci.yml/badge.svg)](https://github.com/nla-group/ABBAj.jl/actions)\\n[![codecov](https://codecov.io/gh/nla-group/ABBAj.jl/branch/master/graph/badge.svg?token=19A3126WBX)](https://codecov.io/gh/nla-group/ABBAj.jl)\\n[![License](https://img.shields.io/badge/License-BSD%203--Clause-blue.svg)](https://opensource.org/licenses/BSD-3-Clause)\\n[![Binder](https://mybinder.org/badge_logo.svg)](https://mybinder.org/v2/gh/nla-group/jlABBA/HEAD)\\n[![DOI](https://zenodo.org/badge/DOI/10.5281/zenodo.6286546.svg)](https://doi.org/10.5281/zenodo.6286546)\\n\\nA Julia version of ABBA with parallel k-means implementation \\n&gt; + Documentation: [![Dev](https://img.shields.io/badge/docs-latest-blue.svg)](https://nla-group.github.io/ABBAj.jl/dev/)\\n\\nABBA (Adaptive Brownian bridge-based aggregation) is a symbolic time series representation method introduced by Elsworth Steven and Stefan Güttel, which archives time-series compression and discretization by transforming time series into a symbolic representation. Compared to raw data, symbolic representation enjoys numerous benefits including dimensionality reduction, noises reduction, features discretization, and so on. The software `fABBA` (https://github.com/nla-group/fABBA) already provided ABBA transformation with appealing speed and tolerance-oriented digitization. Now our application of interest focus on that is it possible to accelerate ABBA by preserving k-means clustering? The package provides lightweight Julia implementation of the ABBA method, using ParallelKMeans.jl to achieve speedup in the digitization. \\n\\n`ABBAj` is a Julia module for time series transformation with ABBA. With `ABBAj`, you can employ ABBA in an efficient way to symbolize time series and applied the symbolic representation to the downstream time series task such as classification and forecasting. Compared to the ABBA module, `ABBAj` enjoys significantly faster speed while retaining the consistent reconstruction error of representation.  \\n\\n\\n## Installation\\nYou can simply install the stable version of this package by running in Julia (Work in progress):\\n\\n```julia\\npkg&gt; add ABBAj\\n```\\n\\nor download the repository via:\\n```\\ngit clone https://github.com/nla-group/ABBAj.jl\\n```\\n\\n## Examples\\n\\n```julia\\njulia&gt; time_series = load_sample(); # load time series samples \\njulia&gt; symbols, model = fit_transform(time_series, 4, 0.1); # use 4 symbols with compressed tolerance of 0.1\\njulia&gt; r_time_series = inverse_transform(symbols, model, time_series[1]); # inverse transform time series\\n```\\n\\nThe reconstruction is shown below.\\n\\n&lt;img src=&quot;docs/src/demo.png&quot; alt=&quot;Reconstruction&quot; width=&quot;360&quot;/&gt;\\n\\n\\n## Julia ABBA VS Python ABBA\\nWe run `ABBAj` and Python ABBA in 100 random samples and each sample with 5000 noises generated from normal distribution by specifying the number of symbols at 100, 1000, respectively. \\n\\nThe comparison of root-mean-square deviation :\\n\\n&lt;img src=&quot;docs/src/MSE.png&quot; alt=&quot;mse&quot; width=&quot;430&quot;/&gt;\\n\\nThe comparison of runtime:\\n\\n&lt;img src=&quot;docs/src/RUNTIME.png&quot; alt=&quot;runtime&quot; width=&quot;430&quot;/&gt;\\n\\nThe two figures shown in above demonstrate that by using Julia, `ABBAj` runs much faster than ABBA while the reconstruction accuracy is preserved. The difference results from the k-means implementation.\\n\\n\\n\\n\\n### Referece\\nElsworth, S., Güttel, S. ABBA: adaptive Brownian bridge-based symbolic aggregation of time series. Data Min Knowl Disc 34, 1175–1200 (2020). https://doi.org/10.1007/s10618-020-00689-6\\n</td><td style = \"text-align: left;\">BSD 3-Clause &quot;New&quot; or &quot;Revised&quot; License</td><td style = \"text-align: right;\">1</td></tr><tr><td class = \"rowNumber\" style = \"font-weight: bold; text-align: right;\">3</td><td style = \"text-align: left;\">ABC_jll</td><td style = \"text-align: left;\">https://github.com/JuliaBinaryWrappers/ABC_jll.jl</td><td style = \"text-align: left;\"></td><td style = \"text-align: left;\"></td><td style = \"text-align: left;\"># `ABC_jll.jl` (v1.1.1+0)\\n\\n[![deps](https://juliahub.com/docs/ABC_jll/deps.svg)](https://juliahub.com/ui/Packages/ABC_jll/rQGrU?page=2)\\n\\nThis is an autogenerated package constructed using [`BinaryBuilder.jl`](https://github.com/JuliaPackaging/BinaryBuilder.jl).\\n\\nThe originating [`build_tarballs.jl`](https://github.com/JuliaPackaging/Yggdrasil/blob/31c7e325ca53cb63db7414c4da2e9753c739547b/A/ABC/build_tarballs.jl) script can be found on [`Yggdrasil`](https://github.com/JuliaPackaging/Yggdrasil/), the community build tree.\\n\\n## Bug Reports\\n\\nIf you have any issue, please report it to the Yggdrasil [bug tracker](https://github.com/JuliaPackaging/Yggdrasil/issues).\\n\\n## Documentation\\n\\nFor more details about JLL packages and how to use them, see `BinaryBuilder.jl` [documentation](https://docs.binarybuilder.org/stable/jll/).\\n\\n## Sources\\n\\nThe tarballs for `ABC_jll.jl` have been built from these sources:\\n\\n* git repository: https://github.com/berkeley-abc/abc.git (revision: `08d25f39f2ee717b688529e61acb695cec0deeed`)\\n\\n## Platforms\\n\\n`ABC_jll.jl` is available for the following platforms:\\n\\n* `macOS aarch64` (`aarch64-apple-darwin`)\\n* `Linux aarch64 {libc=glibc}` (`aarch64-linux-gnu`)\\n* `Linux aarch64 {libc=musl}` (`aarch64-linux-musl`)\\n* `Linux armv6l {call_abi=eabihf, libc=glibc}` (`armv6l-linux-gnueabihf`)\\n* `Linux armv6l {call_abi=eabihf, libc=musl}` (`armv6l-linux-musleabihf`)\\n* `Linux armv7l {call_abi=eabihf, libc=glibc}` (`armv7l-linux-gnueabihf`)\\n* `Linux armv7l {call_abi=eabihf, libc=musl}` (`armv7l-linux-musleabihf`)\\n* `Linux i686 {libc=glibc}` (`i686-linux-gnu`)\\n* `Linux i686 {libc=musl}` (`i686-linux-musl`)\\n* `Linux powerpc64le {libc=glibc}` (`powerpc64le-linux-gnu`)\\n* `macOS x86_64` (`x86_64-apple-darwin`)\\n* `Linux x86_64 {libc=glibc}` (`x86_64-linux-gnu`)\\n* `Linux x86_64 {libc=musl}` (`x86_64-linux-musl`)\\n\\n## Dependencies\\n\\nThe following JLL packages are required by `ABC_jll.jl`:\\n\\n* [`Readline_jll`](https://github.com/JuliaBinaryWrappers/Readline_jll.jl)\\n\\n## Products\\n\\nThe code bindings within this package are autogenerated from the following `Products`:\\n\\n* `ExecutableProduct`: `abc`\\n* `FileProduct`: `abc_rc`\\n* `LibraryProduct`: `libabc`\\n</td><td style = \"text-align: left;\">Other</td><td style = \"text-align: right;\">0</td></tr></tbody></table></div>"
      ],
      "text/latex": [
       "\\begin{tabular}{r|cccc}\n",
       "\t& name & url & description & \\\\\n",
       "\t\\hline\n",
       "\t& String & String & String & \\\\\n",
       "\t\\hline\n",
       "\t1 & AAindex & https://github.com/jowch/AAindex.jl & A package to read AAindex database files. & $\\dots$ \\\\\n",
       "\t2 & ABBAj & https://github.com/nla-group/ABBAj.jl & A Julia version of ABBA with parallel k-means implementation & $\\dots$ \\\\\n",
       "\t3 & ABC\\_jll & https://github.com/JuliaBinaryWrappers/ABC\\_jll.jl &  & $\\dots$ \\\\\n",
       "\\end{tabular}\n"
      ],
      "text/plain": [
       "\u001b[1m3×7 DataFrame\u001b[0m\n",
       "\u001b[1m Row \u001b[0m│\u001b[1m name    \u001b[0m\u001b[1m url                               \u001b[0m\u001b[1m description                \u001b[0m ⋯\n",
       "     │\u001b[90m String  \u001b[0m\u001b[90m String                            \u001b[0m\u001b[90m String                     \u001b[0m ⋯\n",
       "─────┼──────────────────────────────────────────────────────────────────────────\n",
       "   1 │ AAindex  https://github.com/jowch/AAindex…  A package to read AAindex d ⋯\n",
       "   2 │ ABBAj    https://github.com/nla-group/ABB…  A Julia version of ABBA wit\n",
       "   3 │ ABC_jll  https://github.com/JuliaBinaryWr…\n",
       "\u001b[36m                                                               5 columns omitted\u001b[0m"
      ]
     },
     "execution_count": 3,
     "metadata": {},
     "output_type": "execute_result"
    }
   ],
   "source": [
    "P = load_or_create_indexes()\n",
    "@show size(P.D)\n",
    "first(P.D, 3)"
   ]
  },
  {
   "cell_type": "code",
   "execution_count": 4,
   "id": "e311d60e-f23c-428a-a590-ab188c7c595c",
   "metadata": {},
   "outputs": [
    {
     "data": {
      "text/plain": [
       "\"nearest neighbors similarity search\""
      ]
     },
     "execution_count": 4,
     "metadata": {},
     "output_type": "execute_result"
    }
   ],
   "source": [
    "k = 5\n",
    "qtext = \"nearest neighbors similarity search\""
   ]
  },
  {
   "cell_type": "code",
   "execution_count": 5,
   "id": "1fdcdd10-4906-4f7f-895a-8572acdd0d38",
   "metadata": {},
   "outputs": [
    {
     "data": {
      "text/latex": [
       "\\subsection{search on pkg's name (query: nearest neighbors similarity search)}\n"
      ],
      "text/markdown": [
       "## search on pkg's name (query: nearest neighbors similarity search)\n"
      ],
      "text/plain": [
       "\u001b[1m  search on pkg's name (query: nearest neighbors similarity search)\u001b[22m\n",
       "\u001b[1m  ===================================================================\u001b[22m"
      ]
     },
     "metadata": {},
     "output_type": "display_data"
    },
    {
     "name": "stdout",
     "output_type": "stream",
     "text": [
      "{\n",
      " \"name\": \"NearestNeighbors\",\n",
      " \"topics\": \"datastructures knn-search nearest-neighbors range-search\",\n",
      " \"bm25-score\": 134.29,\n",
      " \"description\": \"High performance nearest neighbor data structures and algorithms for Julia.\",\n",
      " \"url\": \"https://github.com/KristofferC/NearestNeighbors.jl\",\n",
      " \"gh-stars\": 352\n",
      "}\n",
      "\n",
      "{\n",
      " \"name\": \"SimilaritySearch\",\n",
      " \"topics\": \"information-retrieval metric-search search-engine similarity-search\",\n",
      " \"bm25-score\": 131.04,\n",
      " \"description\": \"A Near Neighbor Search Library\",\n",
      " \"url\": \"https://github.com/sadit/SimilaritySearch.jl\",\n",
      " \"gh-stars\": 27\n",
      "}\n",
      "\n",
      "{\n",
      " \"name\": \"NearestNeighborModels\",\n",
      " \"topics\": \"julia knearest-neighbor-classifiers knearest-neighbor-regressors mlj weighting-nearest-neighbors\",\n",
      " \"bm25-score\": 113.0,\n",
      " \"description\": \"Package providing K-nearest neighbor regressors and classifiers, for use with the MLJ machine learning framework.\",\n",
      " \"url\": \"https://github.com/JuliaAI/NearestNeighborModels.jl\",\n",
      " \"gh-stars\": 27\n",
      "}\n",
      "\n",
      "{\n",
      " \"name\": \"NearestNeighborDescent\",\n",
      " \"topics\": \"approximate-nearest-neighbor-search distance julialang knn-algorithm knn-graphs machine-learning nearest-neighbors nndescent\",\n",
      " \"bm25-score\": 111.76,\n",
      " \"description\": \"Efficient approximate k-nearest neighbors graph construction and search in Julia\",\n",
      " \"url\": \"https://github.com/dillondaudert/NearestNeighborDescent.jl\",\n",
      " \"gh-stars\": 37\n",
      "}\n",
      "\n",
      "{\n",
      " \"name\": \"SearchSortedNearest\",\n",
      " \"topics\": \"\",\n",
      " \"bm25-score\": 86.77,\n",
      " \"description\": \"\",\n",
      " \"url\": \"https://github.com/joshday/SearchSortedNearest.jl\",\n",
      " \"gh-stars\": 12\n",
      "}\n",
      "\n"
     ]
    }
   ],
   "source": [
    "display(md\"## search on pkg's name (query: $qtext)\")\n",
    "\n",
    "for p in search_packages(P.D, P.nameidx, qtext, k)\n",
    "    println(json(p, 1))\n",
    "end"
   ]
  },
  {
   "cell_type": "code",
   "execution_count": 6,
   "id": "ce8c7692-d769-4978-9ee1-12855ff12553",
   "metadata": {},
   "outputs": [
    {
     "data": {
      "text/latex": [
       "\\subsection{search on pkg's descriptions (query: nearest neighbors similarity search)}\n"
      ],
      "text/markdown": [
       "## search on pkg's descriptions (query: nearest neighbors similarity search)\n"
      ],
      "text/plain": [
       "\u001b[1m  search on pkg's descriptions (query: nearest neighbors similarity\u001b[22m\n",
       "\u001b[1m search)\u001b[22m\n",
       "\u001b[1m  ==========================\u001b[22m"
      ]
     },
     "metadata": {},
     "output_type": "display_data"
    },
    {
     "name": "stdout",
     "output_type": "stream",
     "text": [
      "{\n",
      " \"name\": \"NeighborhoodApproximationIndex\",\n",
      " \"topics\": \"\",\n",
      " \"bm25-score\": 262.76,\n",
      " \"description\": \"Similarity search indexes based on neighborhood approximation\",\n",
      " \"url\": \"https://github.com/sadit/NeighborhoodApproximationIndex.jl\",\n",
      " \"gh-stars\": 1\n",
      "}\n",
      "\n",
      "{\n",
      " \"name\": \"NearestNeighborDescent\",\n",
      " \"topics\": \"approximate-nearest-neighbor-search distance julialang knn-algorithm knn-graphs machine-learning nearest-neighbors nndescent\",\n",
      " \"bm25-score\": 246.62,\n",
      " \"description\": \"Efficient approximate k-nearest neighbors graph construction and search in Julia\",\n",
      " \"url\": \"https://github.com/dillondaudert/NearestNeighborDescent.jl\",\n",
      " \"gh-stars\": 37\n",
      "}\n",
      "\n",
      "{\n",
      " \"name\": \"ParallelNeighbors\",\n",
      " \"topics\": \"\",\n",
      " \"bm25-score\": 238.3,\n",
      " \"description\": \"Massively-parallel exact nearest neighbor search in Julia.\",\n",
      " \"url\": \"https://github.com/davnn/ParallelNeighbors.jl\",\n",
      " \"gh-stars\": 6\n",
      "}\n",
      "\n",
      "{\n",
      " \"name\": \"Neighborhood\",\n",
      " \"topics\": \"\",\n",
      " \"bm25-score\": 221.08,\n",
      " \"description\": \"A common API for finding nearest neighbors in Julia\",\n",
      " \"url\": \"https://github.com/JuliaNeighbors/Neighborhood.jl\",\n",
      " \"gh-stars\": 12\n",
      "}\n",
      "\n",
      "{\n",
      " \"name\": \"HNSW\",\n",
      " \"topics\": \"\",\n",
      " \"bm25-score\": 212.59,\n",
      " \"description\": \"Approximate Nearest Neighbor Searches using the HNSW algorithm\",\n",
      " \"url\": \"https://github.com/JuliaNeighbors/HNSW.jl\",\n",
      " \"gh-stars\": 15\n",
      "}\n",
      "\n"
     ]
    }
   ],
   "source": [
    "\n",
    "display(md\"## search on pkg's descriptions (query: $qtext)\")\n",
    "for p in search_packages(P.D, P.descidx, qtext, k)\n",
    "    println(json(p, 1))\n",
    "end"
   ]
  },
  {
   "cell_type": "code",
   "execution_count": 7,
   "id": "a37439ef-32d9-4609-bd48-9d154c5be9ec",
   "metadata": {},
   "outputs": [
    {
     "data": {
      "text/latex": [
       "\\subsection{search on pkg's readme files (query: nearest neighbors similarity search)}\n"
      ],
      "text/markdown": [
       "## search on pkg's readme files (query: nearest neighbors similarity search)\n"
      ],
      "text/plain": [
       "\u001b[1m  search on pkg's readme files (query: nearest neighbors similarity\u001b[22m\n",
       "\u001b[1m search)\u001b[22m\n",
       "\u001b[1m  ==========================\u001b[22m"
      ]
     },
     "metadata": {},
     "output_type": "display_data"
    },
    {
     "name": "stdout",
     "output_type": "stream",
     "text": [
      "{\n",
      " \"name\": \"InvertedFiles\",\n",
      " \"topics\": \"\",\n",
      " \"bm25-score\": 53.38,\n",
      " \"description\": \"Implements a generic Inverted Index data structure for full text search and other kinds of search domains\",\n",
      " \"url\": \"https://github.com/sadit/InvertedFiles.jl\",\n",
      " \"gh-stars\": 6\n",
      "}\n",
      "\n",
      "{\n",
      " \"name\": \"NearestNeighborDescent\",\n",
      " \"topics\": \"approximate-nearest-neighbor-search distance julialang knn-algorithm knn-graphs machine-learning nearest-neighbors nndescent\",\n",
      " \"bm25-score\": 49.9,\n",
      " \"description\": \"Efficient approximate k-nearest neighbors graph construction and search in Julia\",\n",
      " \"url\": \"https://github.com/dillondaudert/NearestNeighborDescent.jl\",\n",
      " \"gh-stars\": 37\n",
      "}\n",
      "\n",
      "{\n",
      " \"name\": \"SimilaritySearch\",\n",
      " \"topics\": \"information-retrieval metric-search search-engine similarity-search\",\n",
      " \"bm25-score\": 49.66,\n",
      " \"description\": \"A Near Neighbor Search Library\",\n",
      " \"url\": \"https://github.com/sadit/SimilaritySearch.jl\",\n",
      " \"gh-stars\": 27\n",
      "}\n",
      "\n",
      "{\n",
      " \"name\": \"LSHFunctions\",\n",
      " \"topics\": \"data-science julia locality-sensitive-hashing lsh similarity-search\",\n",
      " \"bm25-score\": 49.31,\n",
      " \"description\": \"Locality-sensitive hashing (LSH) in Julia.\",\n",
      " \"url\": \"https://github.com/kernelmethod/LSHFunctions.jl\",\n",
      " \"gh-stars\": 13\n",
      "}\n",
      "\n",
      "{\n",
      " \"name\": \"Shrike\",\n",
      " \"topics\": \"approximate-nearest-neighbor-search clustering julia nearest-neighbor-search nearest-neighbors random-projection random-projections\",\n",
      " \"bm25-score\": 39.21,\n",
      " \"description\": \"Shrike.jl: Fast approximate nearest neighbor search with random projection trees. (Benchmarks included)\",\n",
      " \"url\": \"https://github.com/djpasseyjr/Shrike.jl\",\n",
      " \"gh-stars\": 29\n",
      "}\n",
      "\n",
      "{\n",
      " \"name\": \"ParallelNeighbors\",\n",
      " \"topics\": \"\",\n",
      " \"bm25-score\": 38.05,\n",
      " \"description\": \"Massively-parallel exact nearest neighbor search in Julia.\",\n",
      " \"url\": \"https://github.com/davnn/ParallelNeighbors.jl\",\n",
      " \"gh-stars\": 6\n",
      "}\n",
      "\n",
      "{\n",
      " \"name\": \"IVFADC\",\n",
      " \"topics\": \"approximate-nearest-neighbor-search billion-scale inverted-index nearest-neighbor-search product-quantization\",\n",
      " \"bm25-score\": 37.0,\n",
      " \"description\": \"Inverted file system for billion-scale ANN search\",\n",
      " \"url\": \"https://github.com/JuliaNeighbors/IVFADC.jl\",\n",
      " \"gh-stars\": 14\n",
      "}\n",
      "\n",
      "{\n",
      " \"name\": \"HNSW\",\n",
      " \"topics\": \"\",\n",
      " \"bm25-score\": 36.78,\n",
      " \"description\": \"Approximate Nearest Neighbor Searches using the HNSW algorithm\",\n",
      " \"url\": \"https://github.com/JuliaNeighbors/HNSW.jl\",\n",
      " \"gh-stars\": 15\n",
      "}\n",
      "\n",
      "{\n",
      " \"name\": \"UMAP\",\n",
      " \"topics\": \"dimensionality-reduction julia machine-learning topological-data-analysis umap visualization\",\n",
      " \"bm25-score\": 36.76,\n",
      " \"description\": \"Uniform Manifold Approximation and Projection (UMAP) implementation in Julia\",\n",
      " \"url\": \"https://github.com/dillondaudert/UMAP.jl\",\n",
      " \"gh-stars\": 107\n",
      "}\n",
      "\n",
      "{\n",
      " \"name\": \"NeighborhoodApproximationIndex\",\n",
      " \"topics\": \"\",\n",
      " \"bm25-score\": 36.66,\n",
      " \"description\": \"Similarity search indexes based on neighborhood approximation\",\n",
      " \"url\": \"https://github.com/sadit/NeighborhoodApproximationIndex.jl\",\n",
      " \"gh-stars\": 1\n",
      "}\n",
      "\n",
      "{\n",
      " \"name\": \"NearestNeighbors\",\n",
      " \"topics\": \"datastructures knn-search nearest-neighbors range-search\",\n",
      " \"bm25-score\": 36.32,\n",
      " \"description\": \"High performance nearest neighbor data structures and algorithms for Julia.\",\n",
      " \"url\": \"https://github.com/KristofferC/NearestNeighbors.jl\",\n",
      " \"gh-stars\": 352\n",
      "}\n",
      "\n",
      "{\n",
      " \"name\": \"DynamicAxisWarping\",\n",
      " \"topics\": \"distance-measures dynamic-frequency-warping dynamic-time-warping optimal-transport signal-analysis signal-processing soft-dtw time-series time-series-analysis time-series-clustering\",\n",
      " \"bm25-score\": 33.64,\n",
      " \"description\": \"Dynamic Time Warping (DTW) and related algorithms in Julia, at Julia speeds\",\n",
      " \"url\": \"https://github.com/baggepinnen/DynamicAxisWarping.jl\",\n",
      " \"gh-stars\": 73\n",
      "}\n",
      "\n",
      "{\n",
      " \"name\": \"ManifoldLearning\",\n",
      " \"topics\": \"diffusion-maps dimensionality-reduction isomap julia lle manifold-learning\",\n",
      " \"bm25-score\": 29.01,\n",
      " \"description\": \"A Julia package for manifold learning and nonlinear dimensionality reduction\",\n",
      " \"url\": \"https://github.com/wildart/ManifoldLearning.jl\",\n",
      " \"gh-stars\": 82\n",
      "}\n",
      "\n",
      "{\n",
      " \"name\": \"PrincipalMomentAnalysisApp\",\n",
      " \"topics\": \"\",\n",
      " \"bm25-score\": 28.01,\n",
      " \"description\": \"Simple GUI for exploring data sets using Principal Moment Analysis\",\n",
      " \"url\": \"https://github.com/PrincipalMomentAnalysis/PrincipalMomentAnalysisApp.jl\",\n",
      " \"gh-stars\": 0\n",
      "}\n",
      "\n",
      "{\n",
      " \"name\": \"Pinecone\",\n",
      " \"topics\": \"\",\n",
      " \"bm25-score\": 27.88,\n",
      " \"description\": \"\",\n",
      " \"url\": \"https://github.com/tullytim/Pinecone.jl\",\n",
      " \"gh-stars\": 23\n",
      "}\n",
      "\n"
     ]
    }
   ],
   "source": [
    "display(md\"## search on pkg's readme files (query: $qtext)\")\n",
    "for p in search_packages(P.D, P.readmeidx, qtext, 15)\n",
    "    println(json(p, 1))\n",
    "end"
   ]
  }
 ],
 "metadata": {
  "@webio": {
   "lastCommId": "c0facf71-296b-4764-8510-ea5df0c191f8",
   "lastKernelId": "e71e5dbb-95a6-4b9d-9137-d8ceb338b4b6"
  },
  "kernelspec": {
   "display_name": "Julia 1.9.0",
   "language": "julia",
   "name": "julia-1.9"
  },
  "language_info": {
   "file_extension": ".jl",
   "mimetype": "application/julia",
   "name": "julia",
   "version": "1.9.0"
  }
 },
 "nbformat": 4,
 "nbformat_minor": 5
}
